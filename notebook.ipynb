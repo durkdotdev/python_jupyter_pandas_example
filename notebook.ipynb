{
 "cells": [
  {
   "cell_type": "code",
   "execution_count": 35,
   "metadata": {},
   "outputs": [],
   "source": [
    "# load pandas\n",
    "# https://pandas.pydata.org/\n",
    "import pandas as pd"
   ]
  },
  {
   "cell_type": "code",
   "execution_count": 36,
   "metadata": {},
   "outputs": [],
   "source": [
    "# read file\n",
    "df = pd.read_excel('./file.xlsx')"
   ]
  },
  {
   "cell_type": "code",
   "execution_count": 37,
   "metadata": {},
   "outputs": [
    {
     "name": "stdout",
     "output_type": "stream",
     "text": [
      "  Product   Cost  Price\n",
      "0  jacket  24.99  49.99\n",
      "1   pants  17.99  29.99\n",
      "2   shirt  11.99  19.99\n",
      "3   shoes  49.99  99.99\n"
     ]
    }
   ],
   "source": [
    "# print the first rows of the file\n",
    "print(df.head())"
   ]
  },
  {
   "cell_type": "code",
   "execution_count": 38,
   "metadata": {},
   "outputs": [
    {
     "name": "stdout",
     "output_type": "stream",
     "text": [
      "  Product   Cost  Price  Margin\n",
      "0  jacket  24.99  49.99    25.0\n",
      "1   pants  17.99  29.99    12.0\n",
      "2   shirt  11.99  19.99     8.0\n",
      "3   shoes  49.99  99.99    50.0\n"
     ]
    }
   ],
   "source": [
    "# add profit margin variable\n",
    "df = df.assign(Margin = df.Price - df.Cost)\n",
    "\n",
    "# print the new rows\n",
    "print(df.head())"
   ]
  },
  {
   "cell_type": "code",
   "execution_count": 39,
   "metadata": {},
   "outputs": [
    {
     "name": "stdout",
     "output_type": "stream",
     "text": [
      "  Product   Cost  Price  Margin\n",
      "0  jacket  24.99  49.99    25.0\n",
      "1   shoes  49.99  99.99    50.0\n"
     ]
    }
   ],
   "source": [
    "# remove all rows where price is less than 20.00\n",
    "df = df.drop(df[df.Cost < 20].index)\n",
    "\n",
    "# print the new rows\n",
    "print(df.head())"
   ]
  },
  {
   "cell_type": "code",
   "execution_count": 40,
   "metadata": {},
   "outputs": [
    {
     "name": "stdout",
     "output_type": "stream",
     "text": [
      "  Product   Cost  Price  Margin\n",
      "0  jacket  24.99  49.99    25.0\n",
      "1   shoes  49.99  99.99    50.0\n"
     ]
    }
   ],
   "source": [
    "# reset the indexes so they are in numerical order again\n",
    "df = df.reset_index(drop=True)\n",
    "\n",
    "# print the new rows\n",
    "print(df.head())"
   ]
  }
 ],
 "metadata": {
  "kernelspec": {
   "display_name": "Python 3.10.0 64-bit ('3.10.0')",
   "language": "python",
   "name": "python3"
  },
  "language_info": {
   "codemirror_mode": {
    "name": "ipython",
    "version": 3
   },
   "file_extension": ".py",
   "mimetype": "text/x-python",
   "name": "python",
   "nbconvert_exporter": "python",
   "pygments_lexer": "ipython3",
   "version": "3.10.0"
  },
  "orig_nbformat": 4,
  "vscode": {
   "interpreter": {
    "hash": "226644fa8818d968dab1e1d61457e4102f67e6da8af3fb13df15450a529cd14c"
   }
  }
 },
 "nbformat": 4,
 "nbformat_minor": 2
}
